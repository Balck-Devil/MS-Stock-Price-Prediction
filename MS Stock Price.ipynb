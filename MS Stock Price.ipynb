{
 "cells": [
  {
   "cell_type": "code",
   "execution_count": 1,
   "metadata": {},
   "outputs": [],
   "source": [
    "import pandas as pd\r\n",
    "import numpy as np\r\n",
    "import seaborn as sns\r\n",
    "import matplotlib.pyplot as plt\r\n",
    "import warnings \r\n",
    "warnings.filterwarnings(\"ignore\")\r\n",
    "\r\n",
    "plt.style.use(\"fivethirtyeight\")\r\n"
   ]
  },
  {
   "cell_type": "code",
   "execution_count": 2,
   "metadata": {},
   "outputs": [
    {
     "data": {
      "text/html": [
       "<div>\n",
       "<style scoped>\n",
       "    .dataframe tbody tr th:only-of-type {\n",
       "        vertical-align: middle;\n",
       "    }\n",
       "\n",
       "    .dataframe tbody tr th {\n",
       "        vertical-align: top;\n",
       "    }\n",
       "\n",
       "    .dataframe thead th {\n",
       "        text-align: right;\n",
       "    }\n",
       "</style>\n",
       "<table border=\"1\" class=\"dataframe\">\n",
       "  <thead>\n",
       "    <tr style=\"text-align: right;\">\n",
       "      <th></th>\n",
       "      <th>Date</th>\n",
       "      <th>Open</th>\n",
       "      <th>High</th>\n",
       "      <th>Low</th>\n",
       "      <th>Close</th>\n",
       "      <th>Adj Close</th>\n",
       "      <th>Volume</th>\n",
       "    </tr>\n",
       "  </thead>\n",
       "  <tbody>\n",
       "    <tr>\n",
       "      <th>0</th>\n",
       "      <td>2020-07-13</td>\n",
       "      <td>214.479996</td>\n",
       "      <td>215.800003</td>\n",
       "      <td>206.500000</td>\n",
       "      <td>207.070007</td>\n",
       "      <td>205.084259</td>\n",
       "      <td>38135600</td>\n",
       "    </tr>\n",
       "    <tr>\n",
       "      <th>1</th>\n",
       "      <td>2020-07-14</td>\n",
       "      <td>206.130005</td>\n",
       "      <td>208.850006</td>\n",
       "      <td>202.029999</td>\n",
       "      <td>208.350006</td>\n",
       "      <td>206.351974</td>\n",
       "      <td>37591800</td>\n",
       "    </tr>\n",
       "    <tr>\n",
       "      <th>2</th>\n",
       "      <td>2020-07-15</td>\n",
       "      <td>209.559998</td>\n",
       "      <td>211.330002</td>\n",
       "      <td>205.029999</td>\n",
       "      <td>208.039993</td>\n",
       "      <td>206.044937</td>\n",
       "      <td>32179400</td>\n",
       "    </tr>\n",
       "    <tr>\n",
       "      <th>3</th>\n",
       "      <td>2020-07-16</td>\n",
       "      <td>205.399994</td>\n",
       "      <td>205.699997</td>\n",
       "      <td>202.309998</td>\n",
       "      <td>203.919998</td>\n",
       "      <td>201.964462</td>\n",
       "      <td>29940700</td>\n",
       "    </tr>\n",
       "    <tr>\n",
       "      <th>4</th>\n",
       "      <td>2020-07-17</td>\n",
       "      <td>204.470001</td>\n",
       "      <td>205.039993</td>\n",
       "      <td>201.389999</td>\n",
       "      <td>202.880005</td>\n",
       "      <td>200.934448</td>\n",
       "      <td>31635300</td>\n",
       "    </tr>\n",
       "  </tbody>\n",
       "</table>\n",
       "</div>"
      ],
      "text/plain": [
       "         Date        Open        High         Low       Close   Adj Close  \\\n",
       "0  2020-07-13  214.479996  215.800003  206.500000  207.070007  205.084259   \n",
       "1  2020-07-14  206.130005  208.850006  202.029999  208.350006  206.351974   \n",
       "2  2020-07-15  209.559998  211.330002  205.029999  208.039993  206.044937   \n",
       "3  2020-07-16  205.399994  205.699997  202.309998  203.919998  201.964462   \n",
       "4  2020-07-17  204.470001  205.039993  201.389999  202.880005  200.934448   \n",
       "\n",
       "     Volume  \n",
       "0  38135600  \n",
       "1  37591800  \n",
       "2  32179400  \n",
       "3  29940700  \n",
       "4  31635300  "
      ]
     },
     "execution_count": 2,
     "metadata": {},
     "output_type": "execute_result"
    }
   ],
   "source": [
    "data = pd.read_csv(r\"D:\\PFP\\Projects\\MS Stock Price\\MSFT.csv\")\r\n",
    "data.head()\r\n"
   ]
  },
  {
   "cell_type": "code",
   "execution_count": 3,
   "metadata": {},
   "outputs": [
    {
     "data": {
      "image/png": "[encoded data removed]",
      "text/plain": [
       "<Figure size 576x288 with 1 Axes>"
      ]
     },
     "metadata": {},
     "output_type": "display_data"
    }
   ],
   "source": [
    "plt.figure(figsize=(8,4))\r\n",
    "plt.plot(data[\"Close\"])\r\n",
    "plt.show()"
   ]
  },
  {
   "cell_type": "code",
   "execution_count": 4,
   "metadata": {},
   "outputs": [
    {
     "data": {
      "text/html": [
       "<div>\n",
       "<style scoped>\n",
       "    .dataframe tbody tr th:only-of-type {\n",
       "        vertical-align: middle;\n",
       "    }\n",
       "\n",
       "    .dataframe tbody tr th {\n",
       "        vertical-align: top;\n",
       "    }\n",
       "\n",
       "    .dataframe thead th {\n",
       "        text-align: right;\n",
       "    }\n",
       "</style>\n",
       "<table border=\"1\" class=\"dataframe\">\n",
       "  <thead>\n",
       "    <tr style=\"text-align: right;\">\n",
       "      <th></th>\n",
       "      <th>Open</th>\n",
       "      <th>High</th>\n",
       "      <th>Low</th>\n",
       "      <th>Close</th>\n",
       "      <th>Adj Close</th>\n",
       "      <th>Volume</th>\n",
       "    </tr>\n",
       "  </thead>\n",
       "  <tbody>\n",
       "    <tr>\n",
       "      <th>Open</th>\n",
       "      <td>1.000000</td>\n",
       "      <td>0.996066</td>\n",
       "      <td>0.995243</td>\n",
       "      <td>0.990152</td>\n",
       "      <td>0.990245</td>\n",
       "      <td>-0.301632</td>\n",
       "    </tr>\n",
       "    <tr>\n",
       "      <th>High</th>\n",
       "      <td>0.996066</td>\n",
       "      <td>1.000000</td>\n",
       "      <td>0.995413</td>\n",
       "      <td>0.995409</td>\n",
       "      <td>0.995380</td>\n",
       "      <td>-0.277578</td>\n",
       "    </tr>\n",
       "    <tr>\n",
       "      <th>Low</th>\n",
       "      <td>0.995243</td>\n",
       "      <td>0.995413</td>\n",
       "      <td>1.000000</td>\n",
       "      <td>0.996375</td>\n",
       "      <td>0.996513</td>\n",
       "      <td>-0.337716</td>\n",
       "    </tr>\n",
       "    <tr>\n",
       "      <th>Close</th>\n",
       "      <td>0.990152</td>\n",
       "      <td>0.995409</td>\n",
       "      <td>0.996375</td>\n",
       "      <td>1.000000</td>\n",
       "      <td>0.999868</td>\n",
       "      <td>-0.315351</td>\n",
       "    </tr>\n",
       "    <tr>\n",
       "      <th>Adj Close</th>\n",
       "      <td>0.990245</td>\n",
       "      <td>0.995380</td>\n",
       "      <td>0.996513</td>\n",
       "      <td>0.999868</td>\n",
       "      <td>1.000000</td>\n",
       "      <td>-0.317193</td>\n",
       "    </tr>\n",
       "    <tr>\n",
       "      <th>Volume</th>\n",
       "      <td>-0.301632</td>\n",
       "      <td>-0.277578</td>\n",
       "      <td>-0.337716</td>\n",
       "      <td>-0.315351</td>\n",
       "      <td>-0.317193</td>\n",
       "      <td>1.000000</td>\n",
       "    </tr>\n",
       "  </tbody>\n",
       "</table>\n",
       "</div>"
      ],
      "text/plain": [
       "               Open      High       Low     Close  Adj Close    Volume\n",
       "Open       1.000000  0.996066  0.995243  0.990152   0.990245 -0.301632\n",
       "High       0.996066  1.000000  0.995413  0.995409   0.995380 -0.277578\n",
       "Low        0.995243  0.995413  1.000000  0.996375   0.996513 -0.337716\n",
       "Close      0.990152  0.995409  0.996375  1.000000   0.999868 -0.315351\n",
       "Adj Close  0.990245  0.995380  0.996513  0.999868   1.000000 -0.317193\n",
       "Volume    -0.301632 -0.277578 -0.337716 -0.315351  -0.317193  1.000000"
      ]
     },
     "execution_count": 4,
     "metadata": {},
     "output_type": "execute_result"
    }
   ],
   "source": [
    "data.corr()"
   ]
  },
  {
   "cell_type": "code",
   "execution_count": 5,
   "metadata": {},
   "outputs": [
    {
     "data": {
      "image/png": "[encoded data removed]",
      "text/plain": [
       "<Figure size 432x432 with 2 Axes>"
      ]
     },
     "metadata": {},
     "output_type": "display_data"
    }
   ],
   "source": [
    "plt.figure(figsize=(6,6))\r\n",
    "sns.heatmap(data.corr(),square=True,)\r\n",
    "plt.show()"
   ]
  },
  {
   "cell_type": "code",
   "execution_count": 6,
   "metadata": {},
   "outputs": [],
   "source": [
    "# import plotly.express as px\r\n",
    "\r\n",
    "# fig = px.imshow(data.corr())\r\n",
    "# fig.show()"
   ]
  },
  {
   "cell_type": "code",
   "execution_count": 7,
   "metadata": {},
   "outputs": [
    {
     "data": {
      "text/plain": [
       "Index(['Date', 'Open', 'High', 'Low', 'Close', 'Adj Close', 'Volume'], dtype='object')"
      ]
     },
     "execution_count": 7,
     "metadata": {},
     "output_type": "execute_result"
    }
   ],
   "source": [
    "data.columns"
   ]
  },
  {
   "cell_type": "code",
   "execution_count": 8,
   "metadata": {},
   "outputs": [],
   "source": [
    "x_data = data[[\"Open\",\"High\",\"Low\"]]\r\n",
    "y_data = data[\"Close\"]\r\n",
    "\r\n",
    "X = x_data.to_numpy()\r\n",
    "y = y_data.to_numpy()"
   ]
  },
  {
   "cell_type": "code",
   "execution_count": 9,
   "metadata": {},
   "outputs": [],
   "source": [
    "from sklearn.model_selection import train_test_split\r\n",
    "\r\n",
    "X_train, X_test, y_train, y_test = train_test_split(X,y,test_size=0.2,random_state=42)"
   ]
  },
  {
   "cell_type": "code",
   "execution_count": 10,
   "metadata": {},
   "outputs": [],
   "source": [
    "from sklearn.tree import DecisionTreeRegressor\r\n",
    "\r\n",
    "dt = DecisionTreeRegressor()\r\n",
    "\r\n",
    "dt.fit(X_train,y_train)\r\n",
    "\r\n",
    "y_predict = dt.predict(X_test)"
   ]
  },
  {
   "cell_type": "code",
   "execution_count": 11,
   "metadata": {},
   "outputs": [
    {
     "data": {
      "text/html": [
       "<div>\n",
       "<style scoped>\n",
       "    .dataframe tbody tr th:only-of-type {\n",
       "        vertical-align: middle;\n",
       "    }\n",
       "\n",
       "    .dataframe tbody tr th {\n",
       "        vertical-align: top;\n",
       "    }\n",
       "\n",
       "    .dataframe thead th {\n",
       "        text-align: right;\n",
       "    }\n",
       "</style>\n",
       "<table border=\"1\" class=\"dataframe\">\n",
       "  <thead>\n",
       "    <tr style=\"text-align: right;\">\n",
       "      <th></th>\n",
       "      <th>Orignal Close</th>\n",
       "      <th>Predicted Close</th>\n",
       "    </tr>\n",
       "  </thead>\n",
       "  <tbody>\n",
       "    <tr>\n",
       "      <th>0</th>\n",
       "      <td>233.779999</td>\n",
       "      <td>234.809998</td>\n",
       "    </tr>\n",
       "    <tr>\n",
       "      <th>1</th>\n",
       "      <td>208.750000</td>\n",
       "      <td>210.080002</td>\n",
       "    </tr>\n",
       "    <tr>\n",
       "      <th>2</th>\n",
       "      <td>219.419998</td>\n",
       "      <td>223.720001</td>\n",
       "    </tr>\n",
       "    <tr>\n",
       "      <th>3</th>\n",
       "      <td>230.720001</td>\n",
       "      <td>232.330002</td>\n",
       "    </tr>\n",
       "    <tr>\n",
       "      <th>4</th>\n",
       "      <td>221.020004</td>\n",
       "      <td>222.860001</td>\n",
       "    </tr>\n",
       "  </tbody>\n",
       "</table>\n",
       "</div>"
      ],
      "text/plain": [
       "   Orignal Close  Predicted Close\n",
       "0     233.779999       234.809998\n",
       "1     208.750000       210.080002\n",
       "2     219.419998       223.720001\n",
       "3     230.720001       232.330002\n",
       "4     221.020004       222.860001"
      ]
     },
     "execution_count": 11,
     "metadata": {},
     "output_type": "execute_result"
    }
   ],
   "source": [
    "compare = pd.DataFrame(data={\"Orignal Close\":y_test,\"Predicted Close\":y_predict})\r\n",
    "compare.head()"
   ]
  },
  {
   "cell_type": "code",
   "execution_count": null,
   "metadata": {},
   "outputs": [],
   "source": []
  }
 ],
 "metadata": {
  "kernelspec": {
   "display_name": "Python 3.8.1 64-bit",
   "name": "python38164bit79b3445313b34d7fac7173ebc49bc9b4"
  },
  "language_info": {
   "codemirror_mode": {
    "name": "ipython",
    "version": 3
   },
   "file_extension": ".py",
   "mimetype": "text/x-python",
   "name": "python",
   "nbconvert_exporter": "python",
   "pygments_lexer": "ipython3",
   "version": "3.8.1"
  },
  "orig_nbformat": 4
 },
 "nbformat": 4,
 "nbformat_minor": 2
}